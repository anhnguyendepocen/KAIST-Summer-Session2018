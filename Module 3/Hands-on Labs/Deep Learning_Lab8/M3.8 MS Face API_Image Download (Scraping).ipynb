{
 "cells": [
  {
   "cell_type": "markdown",
   "metadata": {},
   "source": [
    "# KAIST Summer Session 2018\n",
    "\n",
    "## NAVER Movie Scraper for Downloading Actor Images (08.30.2018)\n",
    "\n",
    "1. Generating the list of URLs to download\n",
    "2. Downloading the webpage HTML from the URLs\n",
    "3. Parsing the relevant information from the downloaded HTML"
   ]
  },
  {
   "cell_type": "code",
   "execution_count": 1,
   "metadata": {},
   "outputs": [],
   "source": [
    "import requests\n",
    "from bs4 import BeautifulSoup"
   ]
  },
  {
   "attachments": {},
   "cell_type": "markdown",
   "metadata": {},
   "source": [
    "### 1. Generating the list of URLs to download\n",
    "\n",
    "1) Download the webpage HTML which includes the URL information"
   ]
  },
  {
   "cell_type": "code",
   "execution_count": 2,
   "metadata": {},
   "outputs": [
    {
     "name": "stdout",
     "output_type": "stream",
     "text": [
      "Found the URL: /movie/bi/mi/basic.nhn?code=169015\n",
      "Found the URL: /movie/bi/mi/basic.nhn?code=153687\n",
      "Found the URL: /movie/bi/mi/basic.nhn?code=152661\n",
      "Found the URL: /movie/bi/mi/basic.nhn?code=167697\n",
      "Found the URL: /movie/bi/mi/basic.nhn?code=164115\n",
      "Found the URL: /movie/bi/mi/basic.nhn?code=109906\n",
      "Found the URL: /movie/bi/mi/basic.nhn?code=154222\n",
      "Found the URL: /movie/bi/mi/basic.nhn?code=174626\n",
      "Found the URL: /movie/bi/mi/basic.nhn?code=175322\n",
      "Found the URL: /movie/bi/mi/basic.nhn?code=140652\n",
      "Found the URL: /movie/bi/mi/basic.nhn?code=169643\n",
      "Found the URL: /movie/bi/mi/basic.nhn?code=132996\n",
      "Found the URL: /movie/bi/mi/basic.nhn?code=173019\n",
      "Found the URL: /movie/bi/mi/basic.nhn?code=172010\n",
      "Found the URL: /movie/bi/mi/basic.nhn?code=160721\n",
      "Found the URL: /movie/bi/mi/basic.nhn?code=171499\n",
      "Found the URL: /movie/bi/mi/basic.nhn?code=172425\n",
      "Found the URL: /movie/bi/mi/basic.nhn?code=163533\n",
      "Found the URL: /movie/bi/mi/basic.nhn?code=167602\n",
      "Found the URL: /movie/bi/mi/basic.nhn?code=160375\n",
      "Found the URL: /movie/bi/mi/basic.nhn?code=172118\n",
      "Found the URL: /movie/bi/mi/basic.nhn?code=136990\n",
      "Found the URL: /movie/bi/mi/basic.nhn?code=172174\n",
      "Found the URL: /movie/bi/mi/basic.nhn?code=137696\n",
      "Found the URL: /movie/bi/mi/basic.nhn?code=164151\n",
      "Found the URL: /movie/bi/mi/basic.nhn?code=168669\n",
      "Found the URL: /movie/bi/mi/basic.nhn?code=66751\n",
      "Found the URL: /movie/bi/mi/basic.nhn?code=170827\n",
      "Found the URL: /movie/bi/mi/basic.nhn?code=162981\n",
      "Found the URL: /movie/bi/mi/basic.nhn?code=136315\n",
      "Found the URL: /movie/bi/mi/basic.nhn?code=174305\n",
      "Found the URL: /movie/bi/mi/basic.nhn?code=85579\n",
      "Found the URL: /movie/bi/mi/basic.nhn?code=174301\n",
      "Found the URL: /movie/bi/mi/basic.nhn?code=175727\n",
      "Found the URL: /movie/bi/mi/basic.nhn?code=158178\n",
      "Found the URL: /movie/bi/mi/basic.nhn?code=119428\n",
      "Found the URL: /movie/bi/mi/basic.nhn?code=151886\n",
      "Found the URL: /movie/bi/mi/basic.nhn?code=173810\n",
      "Found the URL: /movie/bi/mi/basic.nhn?code=177379\n",
      "Found the URL: /movie/bi/mi/basic.nhn?code=174659\n",
      "Found the URL: /movie/bi/mi/basic.nhn?code=168049\n",
      "Found the URL: /movie/bi/mi/basic.nhn?code=167331\n",
      "Found the URL: /movie/bi/mi/basic.nhn?code=157243\n",
      "Found the URL: /movie/bi/mi/basic.nhn?code=174805\n",
      "Found the URL: /movie/bi/mi/basic.nhn?code=170888\n",
      "Found the URL: /movie/bi/mi/basic.nhn?code=66381\n",
      "Found the URL: /movie/bi/mi/basic.nhn?code=160487\n",
      "Found the URL: /movie/bi/mi/basic.nhn?code=149236\n",
      "Found the URL: /movie/bi/mi/basic.nhn?code=164106\n",
      "Found the URL: /movie/bi/mi/basic.nhn?code=170881\n",
      "Number of urls: 50\n"
     ]
    }
   ],
   "source": [
    "url_list = []\n",
    "\n",
    "response = requests.get('https://movie.naver.com/movie/sdb/rank/rmovie.nhn?sel=cnt')\n",
    "html = response.text\n",
    "soup = BeautifulSoup(html, 'html.parser')\n",
    "        \n",
    "url_soup = soup.find_all('div', {'class':'tit3'})\n",
    "for ul in url_soup:\n",
    "    for a in ul.find_all('a'):\n",
    "        print(\"Found the URL:\", a['href'])\n",
    "        url_list.append(a['href'])\n",
    "\n",
    "print('Number of urls:',len(url_list))"
   ]
  },
  {
   "cell_type": "markdown",
   "metadata": {},
   "source": [
    "### 2. Parsing the relevant information from the HTML"
   ]
  },
  {
   "cell_type": "markdown",
   "metadata": {},
   "source": [
    "- Actor profile image parsing"
   ]
  },
  {
   "cell_type": "code",
   "execution_count": 3,
   "metadata": {
    "scrolled": false
   },
   "outputs": [
    {
     "name": "stdout",
     "output_type": "stream",
     "text": [
      "0 / 50\n",
      "5 / 50\n",
      "10 / 50\n",
      "15 / 50\n",
      "20 / 50\n",
      "25 / 50\n",
      "30 / 50\n",
      "35 / 50\n",
      "40 / 50\n",
      "45 / 50\n",
      "Done\n"
     ]
    }
   ],
   "source": [
    "import os\n",
    "import urllib\n",
    "\n",
    "movie_actor_collection = []\n",
    "\n",
    "count = 0 \n",
    "\n",
    "for movie_url in url_list:\n",
    "    \n",
    "    if count % 5 ==0:\n",
    "        print(str(count),\"/\", len(url_list))    \n",
    "        \n",
    "    # download the html which includes the relevant information\n",
    "    movie_actor_url= movie_url.replace('basic', 'detail')\n",
    "    response = requests.get('https://movie.naver.com'+movie_actor_url)\n",
    "    html = response.text\n",
    "    soup = BeautifulSoup(html, 'html.parser')\n",
    "\n",
    "    \n",
    "    # parsing for movie information\n",
    "    movie_info = {}\n",
    "    movie_info['url'] = 'https://movie.naver.com'+movie_url\n",
    "    movie_info['ranking']=count+1\n",
    "    movie_info['movie_id'] = movie_url.split('code=')[-1]\n",
    "    \n",
    "    a = soup.find('h3',{'class':'h_movie'})\n",
    "    movie_info['title'] = a.find('a').string\n",
    "\n",
    "    \n",
    "    # creating a new folder\n",
    "    if not(os.path.isdir('images')):\n",
    "        os.makedirs('images')\n",
    "\n",
    "    # parsing for actor information    \n",
    "    a = soup.find_all('p',{'class':'p_thumb'})\n",
    "    for i in range(len(a)):\n",
    "        try:\n",
    "            movie_info['actor_name',i] = a[i].find('a')['title']\n",
    "            movie_info['actor_img',i] = a[i].find('img')['src']\n",
    "            \n",
    "            # download image files unless it is the default image\n",
    "            if movie_info['actor_img',i] != 'https://ssl.pstatic.net/static/movie/2012/06/dft_img111x139.png':\n",
    "                urllib.request.urlretrieve(movie_info['actor_img',i],'images\\\\'+movie_info['movie_id']+'_'+movie_info['actor_name',i]+'.jpg')\n",
    "        except:\n",
    "            pass\n",
    "        \n",
    "        \n",
    "    count +=1\n",
    "    movie_actor_collection.append(movie_info)\n",
    "\n",
    "print(\"Done\")"
   ]
  },
  {
   "cell_type": "markdown",
   "metadata": {},
   "source": [
    "- Saving the data as .xlsx"
   ]
  },
  {
   "cell_type": "code",
   "execution_count": 4,
   "metadata": {},
   "outputs": [],
   "source": [
    "import pandas as pd\n",
    "\n",
    "movie_actor_df = pd.DataFrame(movie_actor_collection)\n",
    "movie_actor_df.to_excel('naver_movie_actor.xlsx')"
   ]
  },
  {
   "cell_type": "code",
   "execution_count": null,
   "metadata": {},
   "outputs": [],
   "source": []
  }
 ],
 "metadata": {
  "kernelspec": {
   "display_name": "Python 3",
   "language": "python",
   "name": "python3"
  },
  "language_info": {
   "codemirror_mode": {
    "name": "ipython",
    "version": 3
   },
   "file_extension": ".py",
   "mimetype": "text/x-python",
   "name": "python",
   "nbconvert_exporter": "python",
   "pygments_lexer": "ipython3",
   "version": "3.6.5"
  }
 },
 "nbformat": 4,
 "nbformat_minor": 2
}
