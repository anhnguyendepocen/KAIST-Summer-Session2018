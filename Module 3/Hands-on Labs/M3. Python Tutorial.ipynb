{
 "cells": [
  {
   "cell_type": "markdown",
   "metadata": {},
   "source": [
    "# KAIST Summer Session 2018\n",
    "\n",
    "## Python Tutorial in 10 Minutes\n",
    "\n",
    "1. Hellow World!\n",
    "2. List\n",
    "3. Dictionary\n",
    "4. Loop\n",
    "5. Condition\n",
    "6. Function\n",
    "7. Class and Inheritance\n",
    "8. Module\n",
    "9. Exception"
   ]
  },
  {
   "cell_type": "markdown",
   "metadata": {},
   "source": [
    "## 1. Hellow World!"
   ]
  },
  {
   "cell_type": "code",
   "execution_count": 5,
   "metadata": {},
   "outputs": [
    {
     "name": "stdout",
     "output_type": "stream",
     "text": [
      "Hello World!\n",
      "Welcome to KAIST Summer Session!\n"
     ]
    }
   ],
   "source": [
    "print('Hello World!')\n",
    "print('Welcome to KAIST Summer Session!')"
   ]
  },
  {
   "cell_type": "markdown",
   "metadata": {},
   "source": [
    "## 2. List"
   ]
  },
  {
   "cell_type": "code",
   "execution_count": 6,
   "metadata": {},
   "outputs": [
    {
     "name": "stdout",
     "output_type": "stream",
     "text": [
      "[1, 2, 3]\n",
      "[1, 2, 3, 4]\n",
      "[1, 2, 3, 4, 'abc']\n",
      "[1, 2, 3, 4, 'abc', 'def']\n",
      "abc 은 list 에 있다.\n"
     ]
    }
   ],
   "source": [
    "list = [1,2,3]\n",
    "print(list)\n",
    "\n",
    "list.append(4)\n",
    "print(list)\n",
    "\n",
    "list.append('abc')\n",
    "print(list)\n",
    "list = list + ['def']\n",
    "print(list)\n",
    "\n",
    "n='abc'\n",
    "if n in list:\n",
    "    print('{} 은 list 에 있다.'.format(n))"
   ]
  },
  {
   "cell_type": "code",
   "execution_count": 7,
   "metadata": {},
   "outputs": [
    {
     "name": "stdout",
     "output_type": "stream",
     "text": [
      "[2, 3, 4, 'abc', 'def']\n",
      "[2, 3, 4, 'abc']\n",
      "abc\n",
      "[2, 3, 4]\n"
     ]
    }
   ],
   "source": [
    "del list[0]\n",
    "print(list)\n",
    "\n",
    "del list[-1]\n",
    "print(list)\n",
    "\n",
    "print(list.pop())\n",
    "print(list)"
   ]
  },
  {
   "cell_type": "code",
   "execution_count": 8,
   "metadata": {},
   "outputs": [
    {
     "name": "stdout",
     "output_type": "stream",
     "text": [
      "[1, 4, 9, 16, 25, 36, 49, 64, 81, 100]\n",
      "\n",
      " [(0, 0), (0, 1), (0, 2), (0, 3), (0, 4), (0, 5), (0, 6), (0, 7), (0, 8), (0, 9), (1, 0), (1, 1), (1, 2), (1, 3), (1, 4), (1, 5), (1, 6), (1, 7), (1, 8), (1, 9), (2, 0), (2, 1), (2, 2), (2, 3), (2, 4), (2, 5), (2, 6), (2, 7), (2, 8), (2, 9), (3, 0), (3, 1), (3, 2), (3, 3), (3, 4), (3, 5), (3, 6), (3, 7), (3, 8), (3, 9), (4, 0), (4, 1), (4, 2), (4, 3), (4, 4), (4, 5), (4, 6), (4, 7), (4, 8), (4, 9), (5, 0), (5, 1), (5, 2), (5, 3), (5, 4), (5, 5), (5, 6), (5, 7), (5, 8), (5, 9), (6, 0), (6, 1), (6, 2), (6, 3), (6, 4), (6, 5), (6, 6), (6, 7), (6, 8), (6, 9), (7, 0), (7, 1), (7, 2), (7, 3), (7, 4), (7, 5), (7, 6), (7, 7), (7, 8), (7, 9), (8, 0), (8, 1), (8, 2), (8, 3), (8, 4), (8, 5), (8, 6), (8, 7), (8, 8), (8, 9), (9, 0), (9, 1), (9, 2), (9, 3), (9, 4), (9, 5), (9, 6), (9, 7), (9, 8), (9, 9)]\n"
     ]
    }
   ],
   "source": [
    "# List comprehension\n",
    "\n",
    "areas1 = [ i*i for i in range(1,11) ]\n",
    "print(areas1)\n",
    "\n",
    "areas2 = [ ( x, y ) for x in range(10) for y in range(10) ]\n",
    "print('\\n', areas2)"
   ]
  },
  {
   "cell_type": "markdown",
   "metadata": {},
   "source": [
    "## 3. Dictionary"
   ]
  },
  {
   "cell_type": "code",
   "execution_count": 9,
   "metadata": {},
   "outputs": [
    {
     "name": "stdout",
     "output_type": "stream",
     "text": [
      "{'python': 0, 'java': 1, 'c++': 2, 'ruby': 3, 'html': 4}\n",
      "0 : python\n",
      "1 : java\n",
      "2 : c++\n",
      "3 : ruby\n",
      "4 : html\n",
      "{'python': 0, 'java': 1, 'c++': 2, 'ruby': 3}\n",
      "{'python': 0, 'java': 1, 'c++': 2, 'ruby': 3, 'pytorch': 5}\n"
     ]
    }
   ],
   "source": [
    "dict = {\n",
    "    \"python\": 0,\n",
    "    \"java\":1,\n",
    "    \"c++\":2,\n",
    "    \"ruby\":3,\n",
    "    \"html\":4,\n",
    "}\n",
    "\n",
    "print(dict)\n",
    "\n",
    "for key, value in enumerate(dict):\n",
    "    print('{} : {}'.format(key, value))\n",
    "\n",
    "del dict[\"html\"]\n",
    "print(dict)\n",
    "\n",
    "dict[\"pytorch\"]=5\n",
    "print(dict)"
   ]
  },
  {
   "cell_type": "markdown",
   "metadata": {},
   "source": [
    "## 4. Loop"
   ]
  },
  {
   "cell_type": "code",
   "execution_count": 10,
   "metadata": {},
   "outputs": [
    {
     "name": "stdout",
     "output_type": "stream",
     "text": [
      "1\n",
      "2\n",
      "3\n",
      "4\n",
      "5\n",
      "1번 : python\n",
      "2번 : java\n",
      "3번 : c++\n",
      "4번 : ruby\n",
      "5번 : html\n"
     ]
    }
   ],
   "source": [
    "numbers= [1, 2, 3, 4, 5]\n",
    "\n",
    "for number in numbers:\n",
    "    print(number)\n",
    "      \n",
    "languages = ['python', 'java', 'c++', 'ruby', 'html']\n",
    "\n",
    "for i in range(len(languages)):\n",
    "    language = languages[i]\n",
    "    print('{}번 : {}'.format(i + 1, language))"
   ]
  },
  {
   "cell_type": "code",
   "execution_count": 11,
   "metadata": {},
   "outputs": [
    {
     "name": "stdout",
     "output_type": "stream",
     "text": [
      "0\n",
      "1\n",
      "2\n",
      "3\n",
      "4\n",
      "5\n",
      "6\n",
      "7\n",
      "8\n",
      "9\n"
     ]
    }
   ],
   "source": [
    "a=0\n",
    "while(a<10):\n",
    "    print(a)\n",
    "    a+=1  "
   ]
  },
  {
   "cell_type": "markdown",
   "metadata": {},
   "source": [
    "## 5. Condition"
   ]
  },
  {
   "cell_type": "code",
   "execution_count": 12,
   "metadata": {},
   "outputs": [
    {
     "name": "stdout",
     "output_type": "stream",
     "text": [
      "{'python': 0, 'java': 1, 'c++': 2, 'ruby': 3, 'pytorch': 5}\n",
      "python 는 0 번이다.\n",
      "not pytorch or python\n",
      "not pytorch or python\n",
      "not pytorch or python\n",
      "pytorch 는 5 번이다.\n"
     ]
    }
   ],
   "source": [
    "print(dict)\n",
    "\n",
    "for key in dict:\n",
    "    if key == 'pytorch':\n",
    "        print('pytorch 는 {} 번이다.'.format(dict[key]))\n",
    "    elif key == 'python':\n",
    "        print('python 는 {} 번이다.'.format(dict[key]))\n",
    "    else:\n",
    "        print('not pytorch or python')"
   ]
  },
  {
   "cell_type": "markdown",
   "metadata": {},
   "source": [
    "## 6. Function"
   ]
  },
  {
   "cell_type": "code",
   "execution_count": 13,
   "metadata": {},
   "outputs": [
    {
     "name": "stdout",
     "output_type": "stream",
     "text": [
      "120\n"
     ]
    }
   ],
   "source": [
    "def factorial(num):\n",
    "    result = 1\n",
    "    for i in range(num):\n",
    "        result = result*(i+1)\n",
    "    return result\n",
    "\n",
    "print(factorial(5))"
   ]
  },
  {
   "cell_type": "markdown",
   "metadata": {},
   "source": [
    "## 7. Class and Inheritance"
   ]
  },
  {
   "cell_type": "code",
   "execution_count": 14,
   "metadata": {},
   "outputs": [
    {
     "name": "stdout",
     "output_type": "stream",
     "text": [
      "홍길동이 오른손을 흔든다\n"
     ]
    }
   ],
   "source": [
    "class Animal( ):\n",
    "    def __init__( self, name ):\n",
    "        self.name = name\n",
    "\n",
    "class Human( Animal ):\n",
    "    def __init__( self, name, hand ):\n",
    "        super().__init__( name )\n",
    "        self.hand = hand\n",
    "        \n",
    "    def wave(self):\n",
    "        print('{}이 {}을 흔든다'.format(self.name, self.hand))\n",
    "\n",
    "person = Human('홍길동', '오른손')\n",
    "person.wave()"
   ]
  },
  {
   "cell_type": "markdown",
   "metadata": {},
   "source": [
    "## 8. Module"
   ]
  },
  {
   "cell_type": "code",
   "execution_count": 15,
   "metadata": {},
   "outputs": [
    {
     "name": "stdout",
     "output_type": "stream",
     "text": [
      "[[4 2 1]\n",
      " [4 8 3]\n",
      " [1 1 0]]\n",
      "[[ 0.3 -0.1  0.2]\n",
      " [-0.3  0.1  0.8]\n",
      " [ 0.4  0.2 -2.4]]\n",
      "[[ 1.00000000e+00 -2.77555756e-17  0.00000000e+00]\n",
      " [-1.66533454e-16  1.00000000e+00  0.00000000e+00]\n",
      " [-5.55111512e-17 -1.38777878e-17  1.00000000e+00]]\n"
     ]
    },
    {
     "data": {
      "text/plain": [
       "'\\nNote that this was meant to return the identity matrix, \\nbut that the float operations returned not zeros but numbers very close to zero.\\n'"
      ]
     },
     "execution_count": 15,
     "metadata": {},
     "output_type": "execute_result"
    }
   ],
   "source": [
    "import numpy as np\n",
    "\n",
    "A = np.array([[4,2,1],[4,8,3],[1,1,0]])\n",
    "print(A)\n",
    "\n",
    "A_inverse = np.linalg.inv(A)\n",
    "print(A_inverse)\n",
    "\n",
    "print(np.dot(A, A_inverse))\n",
    "\n",
    "\n",
    "# single line annotation\n",
    "\n",
    "# multiple lines annotation by ''' as below,\n",
    "'''\n",
    "Note that this was meant to return the identity matrix, \n",
    "but that the float operations returned not zeros but numbers very close to zero.\n",
    "'''"
   ]
  },
  {
   "cell_type": "markdown",
   "metadata": {},
   "source": [
    "## 9. Exception"
   ]
  },
  {
   "cell_type": "code",
   "execution_count": 16,
   "metadata": {},
   "outputs": [
    {
     "name": "stdout",
     "output_type": "stream",
     "text": [
      "[[1 1 0]\n",
      " [2 2 0]\n",
      " [3 1 2]]\n",
      "This matrix is not invertible.\n"
     ]
    }
   ],
   "source": [
    "B = np.array([[1,1,0],[2,2,0],[3,1,2]])\n",
    "print(B)\n",
    "\n",
    "try:\n",
    "    B_inverse = np.linalg.inv(B)\n",
    "    print(B_inverse)\n",
    "    print(np.dot(B, B_inverse))\n",
    "except:\n",
    "    print('This matrix is not invertible.')"
   ]
  },
  {
   "cell_type": "code",
   "execution_count": null,
   "metadata": {},
   "outputs": [],
   "source": []
  }
 ],
 "metadata": {
  "kernelspec": {
   "display_name": "Python 3",
   "language": "python",
   "name": "python3"
  },
  "language_info": {
   "codemirror_mode": {
    "name": "ipython",
    "version": 3
   },
   "file_extension": ".py",
   "mimetype": "text/x-python",
   "name": "python",
   "nbconvert_exporter": "python",
   "pygments_lexer": "ipython3",
   "version": "3.6.5"
  }
 },
 "nbformat": 4,
 "nbformat_minor": 2
}
