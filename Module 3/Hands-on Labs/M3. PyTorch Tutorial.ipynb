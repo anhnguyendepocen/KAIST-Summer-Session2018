{
 "cells": [
  {
   "cell_type": "markdown",
   "metadata": {},
   "source": [
    "# KAIST Summer Session 2018\n",
    "\n",
    "## PyTorch Tutorial in 10 Minutes\n",
    "\n",
    "1. Create a Tensor\n",
    "2. Conversion of Tensor Type\n",
    "3. Reshape a Tensor\n",
    "4. Indexing, Slicing, Joining\n",
    "5. Scalar Operation\n",
    "6. Matrix Operation"
   ]
  },
  {
   "cell_type": "markdown",
   "metadata": {},
   "source": [
    "## 1. Create a Tensor"
   ]
  },
  {
   "cell_type": "code",
   "execution_count": 190,
   "metadata": {},
   "outputs": [
    {
     "name": "stdout",
     "output_type": "stream",
     "text": [
      "tensor([[-0.0000,  0.0000,  0.0000],\n",
      "        [ 0.0000,  0.0000,  0.0000]])\n"
     ]
    }
   ],
   "source": [
    "import torch\n",
    "import numpy as np\n",
    "\n",
    "x = torch.Tensor(2, 3)\n",
    "\n",
    "torch.is_tensor(x)\n",
    "print(x)"
   ]
  },
  {
   "cell_type": "code",
   "execution_count": 191,
   "metadata": {},
   "outputs": [
    {
     "name": "stdout",
     "output_type": "stream",
     "text": [
      "tensor([ 0,  1,  2,  3,  4,  5,  6,  7,  8,  9, 10, 11])\n"
     ]
    }
   ],
   "source": [
    "z = torch.arange(12)\n",
    "print(z)"
   ]
  },
  {
   "cell_type": "code",
   "execution_count": 192,
   "metadata": {},
   "outputs": [
    {
     "name": "stdout",
     "output_type": "stream",
     "text": [
      "tensor([[0., 0.],\n",
      "        [0., 0.],\n",
      "        [0., 0.],\n",
      "        [0., 0.],\n",
      "        [0., 0.]])\n"
     ]
    }
   ],
   "source": [
    "z = torch.zeros(5, 2)\n",
    "print(z)"
   ]
  },
  {
   "cell_type": "code",
   "execution_count": 193,
   "metadata": {},
   "outputs": [
    {
     "name": "stdout",
     "output_type": "stream",
     "text": [
      "tensor([[[1., 1.],\n",
      "         [1., 1.],\n",
      "         [1., 1.]],\n",
      "\n",
      "        [[1., 1.],\n",
      "         [1., 1.],\n",
      "         [1., 1.]]])\n"
     ]
    }
   ],
   "source": [
    "z = torch.ones(2, 3, 2)\n",
    "print(z)"
   ]
  },
  {
   "cell_type": "code",
   "execution_count": 194,
   "metadata": {},
   "outputs": [
    {
     "name": "stdout",
     "output_type": "stream",
     "text": [
      "tensor([[1., 0., 0.],\n",
      "        [0., 1., 0.],\n",
      "        [0., 0., 1.]])\n"
     ]
    }
   ],
   "source": [
    "z = torch.eye(3)              # Create an identity 3x3 tensor\n",
    "print(z)"
   ]
  },
  {
   "cell_type": "code",
   "execution_count": 195,
   "metadata": {},
   "outputs": [
    {
     "name": "stdout",
     "output_type": "stream",
     "text": [
      "tensor([[0.7610, 0.7302, 0.1720],\n",
      "        [0.2518, 0.4020, 0.6277],\n",
      "        [0.5947, 0.2671, 0.4621],\n",
      "        [0.3804, 0.3797, 0.1845]])\n",
      "tensor([0.7610, 0.4020, 0.4621])\n"
     ]
    }
   ],
   "source": [
    "v = torch.rand(4, 3)\n",
    "z = torch.diag(v)\n",
    "\n",
    "print(v)\n",
    "print(z)"
   ]
  },
  {
   "cell_type": "markdown",
   "metadata": {},
   "source": [
    "## 2. Conversion of Tensor Type"
   ]
  },
  {
   "cell_type": "code",
   "execution_count": 196,
   "metadata": {},
   "outputs": [
    {
     "name": "stdout",
     "output_type": "stream",
     "text": [
      "<class 'numpy.ndarray'>\n",
      "<class 'list'>\n"
     ]
    }
   ],
   "source": [
    "a = np.array([1, 2, 3])\n",
    "v = torch.from_numpy(a)         # Convert a numpy array to a Tensor\n",
    "\n",
    "b = v.numpy()                   # Tensor to numpy\n",
    "\n",
    "c = x.tolist()\n",
    "\n",
    "print(type(b))\n",
    "print(type(c))"
   ]
  },
  {
   "cell_type": "code",
   "execution_count": 197,
   "metadata": {},
   "outputs": [
    {
     "name": "stdout",
     "output_type": "stream",
     "text": [
      "torch.FloatTensor\n",
      "torch.LongTensor\n"
     ]
    }
   ],
   "source": [
    "x1 = torch.Tensor(2, 3)  # An un-initialized Tensor object. x holds garbage data.\n",
    "x2 = torch.LongTensor(2, 3)  # An un-initialized Tensor object. x holds garbage data.\n",
    "\n",
    "print(x1.type())\n",
    "print(x2.type())"
   ]
  },
  {
   "cell_type": "markdown",
   "metadata": {},
   "source": [
    "## 3. Reshape a Tensor"
   ]
  },
  {
   "cell_type": "code",
   "execution_count": 198,
   "metadata": {},
   "outputs": [
    {
     "name": "stdout",
     "output_type": "stream",
     "text": [
      "torch.Size([6])\n",
      "torch.Size([3, 2])\n",
      "torch.Size([2, 3])\n"
     ]
    }
   ],
   "source": [
    "### Tensor resizing\n",
    "v = torch.randn(2, 3)\n",
    "z1 = v.view(6)\n",
    "z2 = v.view(-1, 2)                # Size -1 is inferred from other dimensions\n",
    "z3 = v.view(2, -1)\n",
    "\n",
    "print(z1.size())\n",
    "print(z2.size())\n",
    "print(z3.size())"
   ]
  },
  {
   "cell_type": "code",
   "execution_count": 199,
   "metadata": {},
   "outputs": [
    {
     "name": "stdout",
     "output_type": "stream",
     "text": [
      "torch.Size([4, 3])\n",
      "torch.Size([3, 4])\n"
     ]
    }
   ],
   "source": [
    "v = torch.rand(4, 3)\n",
    "z = torch.transpose(v, 0, 1)\n",
    "\n",
    "print(v.size())\n",
    "print(z.size())"
   ]
  },
  {
   "cell_type": "code",
   "execution_count": 200,
   "metadata": {},
   "outputs": [
    {
     "name": "stdout",
     "output_type": "stream",
     "text": [
      "torch.Size([2, 1, 2, 1])\n",
      "torch.Size([2, 2])\n",
      "torch.Size([2, 1, 2])\n"
     ]
    }
   ],
   "source": [
    "v = torch.ones(2,1,2,1) # Size 2x1x2x1\n",
    "print(v.size())\n",
    "\n",
    "z = torch.squeeze(v)     # Size 2x2\n",
    "print(z.size())\n",
    "\n",
    "z = torch.squeeze(v, 3)  # Squeeze dimension 1: Size 2x2x1\n",
    "print(z.size())"
   ]
  },
  {
   "cell_type": "code",
   "execution_count": 201,
   "metadata": {},
   "outputs": [
    {
     "name": "stdout",
     "output_type": "stream",
     "text": [
      "torch.Size([3])\n",
      "torch.Size([1, 3])\n",
      "torch.Size([3, 1])\n"
     ]
    }
   ],
   "source": [
    "# Un-squeeze a dimension\n",
    "v = torch.Tensor([1, 2, 3])\n",
    "print(v.size())\n",
    "\n",
    "z = torch.unsqueeze(v, 0)       # Size: 1x3\n",
    "print(z.size())\n",
    "\n",
    "z = torch.unsqueeze(v, 1)       # Size: 3x1\n",
    "print(z.size())"
   ]
  },
  {
   "cell_type": "markdown",
   "metadata": {},
   "source": [
    "## 4. Indexing, Slicing, Joining"
   ]
  },
  {
   "cell_type": "code",
   "execution_count": 202,
   "metadata": {},
   "outputs": [
    {
     "name": "stdout",
     "output_type": "stream",
     "text": [
      "tensor([[0., 1., 0., 0.],\n",
      "        [0., 1., 0., 0.],\n",
      "        [0., 1., 0., 0.]])\n"
     ]
    }
   ],
   "source": [
    "# Indexing\n",
    "z = torch.zeros(3, 4)\n",
    "\n",
    "z[:, 1] = 1 \n",
    "print(z)"
   ]
  },
  {
   "cell_type": "code",
   "execution_count": 203,
   "metadata": {},
   "outputs": [
    {
     "name": "stdout",
     "output_type": "stream",
     "text": [
      "tensor([[[0.2882, 0.7961, 0.1011, 0.0211, 0.8571, 0.2559, 0.9829, 0.3503],\n",
      "         [0.9328, 0.8172, 0.7712, 0.4994, 0.8917, 0.6409, 0.7610, 0.9837],\n",
      "         [0.3467, 0.6368, 0.8894, 0.4239, 0.1294, 0.7086, 0.1711, 0.2334],\n",
      "         [0.6649, 0.3257, 0.0627, 0.4348, 0.0902, 0.3297, 0.4055, 0.9349]],\n",
      "\n",
      "        [[0.6395, 0.8397, 0.1971, 0.1172, 0.6482, 0.2229, 0.7168, 0.8317],\n",
      "         [0.3380, 0.2950, 0.3518, 0.1657, 0.9644, 0.3993, 0.1787, 0.2202],\n",
      "         [0.7506, 0.4540, 0.7031, 0.5520, 0.2781, 0.6609, 0.2154, 0.8781],\n",
      "         [0.3794, 0.1278, 0.6450, 0.0076, 0.6908, 0.0813, 0.2757, 0.4725]]])\n",
      "tensor([[0.9328, 0.8172, 0.7712],\n",
      "        [0.3380, 0.2950, 0.3518]])\n",
      "tensor([0.7506, 0.4540, 0.7031, 0.5520, 0.2781, 0.6609, 0.2154, 0.8781])\n"
     ]
    }
   ],
   "source": [
    "# Slicing\n",
    "z = torch.rand(2, 4, 8)\n",
    "print(z)\n",
    "print(z[:, 1, :3])\n",
    "print(z[1, 2])"
   ]
  },
  {
   "cell_type": "code",
   "execution_count": 204,
   "metadata": {},
   "outputs": [
    {
     "name": "stdout",
     "output_type": "stream",
     "text": [
      "tensor([[0.2528, 0.3416, 0.5269],\n",
      "        [0.4569, 0.7130, 0.9028],\n",
      "        [0.6171, 0.5154, 0.2063],\n",
      "        [0.8663, 0.7373, 0.8843]])\n",
      "tensor([[0.2528, 0.3416, 0.5269, 0.2528, 0.3416, 0.5269],\n",
      "        [0.4569, 0.7130, 0.9028, 0.4569, 0.7130, 0.9028],\n",
      "        [0.6171, 0.5154, 0.2063, 0.6171, 0.5154, 0.2063],\n",
      "        [0.8663, 0.7373, 0.8843, 0.8663, 0.7373, 0.8843]])\n",
      "torch.Size([4, 6])\n"
     ]
    }
   ],
   "source": [
    "# Concatenation\n",
    "v = torch.rand(4, 3)\n",
    "print(v)\n",
    "\n",
    "z = torch.cat((v, v), dim=1)          # Concatenate in the 1 dimension\n",
    "\n",
    "print(z)\n",
    "print(z.size())"
   ]
  },
  {
   "cell_type": "code",
   "execution_count": 205,
   "metadata": {},
   "outputs": [
    {
     "name": "stdout",
     "output_type": "stream",
     "text": [
      "tensor([[0.7197, 0.4316, 0.6790],\n",
      "        [0.4198, 0.9202, 0.8132],\n",
      "        [0.8962, 0.4277, 0.2720],\n",
      "        [0.3229, 0.1924, 0.7459]])\n",
      "tensor([[[0.7197, 0.4316, 0.6790],\n",
      "         [0.4198, 0.9202, 0.8132],\n",
      "         [0.8962, 0.4277, 0.2720],\n",
      "         [0.3229, 0.1924, 0.7459]],\n",
      "\n",
      "        [[0.7197, 0.4316, 0.6790],\n",
      "         [0.4198, 0.9202, 0.8132],\n",
      "         [0.8962, 0.4277, 0.2720],\n",
      "         [0.3229, 0.1924, 0.7459]]])\n",
      "torch.Size([2, 4, 3])\n"
     ]
    }
   ],
   "source": [
    "# Stack\n",
    "v = torch.rand(4, 3)\n",
    "print(v)\n",
    "\n",
    "z = torch.stack((v, v))\n",
    "print(z)\n",
    "print(z.size())"
   ]
  },
  {
   "cell_type": "code",
   "execution_count": 206,
   "metadata": {},
   "outputs": [
    {
     "name": "stdout",
     "output_type": "stream",
     "text": [
      "tensor([[0.5646, 0.9691, 0.9947],\n",
      "        [0.8001, 0.3135, 0.0287],\n",
      "        [0.4592, 0.8205, 0.4740],\n",
      "        [0.5752, 0.8081, 0.6177]])\n",
      "tensor([[0.5646, 0.9691],\n",
      "        [0.3135, 0.8001],\n",
      "        [0.4740, 0.8205],\n",
      "        [0.5752, 0.6177]])\n",
      "torch.Size([4, 2])\n",
      "tensor([[0.5646, 0.3135, 0.0287],\n",
      "        [0.8001, 0.9691, 0.0287],\n",
      "        [0.4592, 0.8205, 0.6177]])\n",
      "torch.Size([3, 3])\n"
     ]
    }
   ],
   "source": [
    "# Gather element\n",
    "v = torch.rand(4, 3)\n",
    "print(v)\n",
    "\n",
    "z = torch.gather(v, 1, torch.LongTensor([[0,1],[1,0],[2,1],[0,2]]))\n",
    "print(z)\n",
    "print(z.size())\n",
    "\n",
    "z = torch.gather(v, 0, torch.LongTensor([[0,1,1],[1,0,1],[2,2,3]]))\n",
    "print(z)\n",
    "print(z.size())"
   ]
  },
  {
   "cell_type": "code",
   "execution_count": 207,
   "metadata": {},
   "outputs": [
    {
     "name": "stdout",
     "output_type": "stream",
     "text": [
      "tensor([[0.5490, 0.8908, 0.2415],\n",
      "        [0.6069, 0.8836, 0.5979],\n",
      "        [0.6927, 0.8306, 0.9641],\n",
      "        [0.0633, 0.3622, 0.4232]])\n",
      "(tensor([[0.5490, 0.8908, 0.2415],\n",
      "        [0.6069, 0.8836, 0.5979]]), tensor([[0.6927, 0.8306, 0.9641],\n",
      "        [0.0633, 0.3622, 0.4232]]))\n"
     ]
    }
   ],
   "source": [
    "# Split a tensor into 3 chunks\n",
    "v = torch.rand(4, 3)\n",
    "print(v)\n",
    "\n",
    "z = torch.chunk(v, 3)\n",
    "\n",
    "print(z)"
   ]
  },
  {
   "cell_type": "code",
   "execution_count": 208,
   "metadata": {},
   "outputs": [
    {
     "name": "stdout",
     "output_type": "stream",
     "text": [
      "tensor([[0.6753, 0.3142, 0.8349],\n",
      "        [0.6868, 0.2983, 0.8290],\n",
      "        [0.9174, 0.0698, 0.5925],\n",
      "        [0.2447, 0.5656, 0.0252]])\n",
      "(tensor([0.8349, 0.8290, 0.9174, 0.5656]), tensor([2, 2, 0, 1]))\n",
      "(tensor([[0.8349],\n",
      "        [0.8290],\n",
      "        [0.9174],\n",
      "        [0.5656]]), tensor([[2],\n",
      "        [2],\n",
      "        [0],\n",
      "        [1]]))\n"
     ]
    }
   ],
   "source": [
    "# Max element with corresponding index\n",
    "v = torch.rand(4, 3)\n",
    "print(v)\n",
    "\n",
    "z = torch.max(v, 1)\n",
    "print(z)\n",
    "\n",
    "z = torch.topk(v, 1)\n",
    "print(z)"
   ]
  },
  {
   "cell_type": "code",
   "execution_count": 209,
   "metadata": {},
   "outputs": [
    {
     "name": "stdout",
     "output_type": "stream",
     "text": [
      "tensor([[0.7468, 0.7995, 0.9537],\n",
      "        [0.5712, 0.0347, 0.4422],\n",
      "        [0.7870, 0.5964, 0.1553],\n",
      "        [0.1723, 0.9310, 0.9327]])\n",
      "tensor([[0.7468, 0.9537],\n",
      "        [0.5712, 0.4422],\n",
      "        [0.7870, 0.1553],\n",
      "        [0.1723, 0.9327]])\n"
     ]
    }
   ],
   "source": [
    "# Index select\n",
    "v = torch.rand(4, 3)\n",
    "print(v)\n",
    "\n",
    "indices = torch.LongTensor([0, 2])\n",
    "z = torch.index_select(v, 1, indices) # Select element 0 and 2 for each dimension 1.\n",
    "\n",
    "print(z)"
   ]
  },
  {
   "cell_type": "markdown",
   "metadata": {},
   "source": [
    "## 5. Scalar Operation"
   ]
  },
  {
   "cell_type": "code",
   "execution_count": 210,
   "metadata": {},
   "outputs": [
    {
     "name": "stdout",
     "output_type": "stream",
     "text": [
      "tensor([[-1.0000, -2.0000,  3.0000],\n",
      "        [ 3.0000,  2.0000, -1.0000],\n",
      "        [ 0.1000,  0.4000, -0.6000]])\n",
      "tensor([[1.0000, 2.0000, 3.0000],\n",
      "        [3.0000, 2.0000, 1.0000],\n",
      "        [0.1000, 0.4000, 0.6000]])\n"
     ]
    }
   ],
   "source": [
    "v= torch.FloatTensor([[-1, -2, 3], [3, 2, -1], [0.1, 0.4, -0.6]])\n",
    "print(v)\n",
    "\n",
    "# absolute value\n",
    "z = torch.abs(v)      \n",
    "print(z)"
   ]
  },
  {
   "cell_type": "code",
   "execution_count": 211,
   "metadata": {},
   "outputs": [
    {
     "name": "stdout",
     "output_type": "stream",
     "text": [
      "tensor([[ 9.0000,  8.0000, 13.0000],\n",
      "        [13.0000, 12.0000,  9.0000],\n",
      "        [10.1000, 10.4000,  9.4000]])\n"
     ]
    }
   ],
   "source": [
    "# Add x, y and scalar 10 to all elements\n",
    "z = torch.add(v, 10)\n",
    "print(z)"
   ]
  },
  {
   "cell_type": "code",
   "execution_count": 212,
   "metadata": {},
   "outputs": [
    {
     "name": "stdout",
     "output_type": "stream",
     "text": [
      "tensor([[1.0000, 4.0000, 9.0000],\n",
      "        [9.0000, 4.0000, 1.0000],\n",
      "        [0.0100, 0.1600, 0.3600]])\n"
     ]
    }
   ],
   "source": [
    "# Element-wise multiple\n",
    "z = torch.mul(v, v)\n",
    "print(z)"
   ]
  },
  {
   "cell_type": "code",
   "execution_count": 213,
   "metadata": {},
   "outputs": [
    {
     "name": "stdout",
     "output_type": "stream",
     "text": [
      "tensor([[0.5000, 0.5000, 0.5000],\n",
      "        [0.5000, 0.5000, 0.5000],\n",
      "        [0.5000, 0.5000, 0.5000]])\n"
     ]
    }
   ],
   "source": [
    "# Element-wise divide\n",
    "z = torch.div(v, 2*v)\n",
    "print(z)"
   ]
  },
  {
   "cell_type": "code",
   "execution_count": 214,
   "metadata": {},
   "outputs": [
    {
     "name": "stdout",
     "output_type": "stream",
     "text": [
      "tensor([[-0.5000, -0.5000,  0.5000],\n",
      "        [ 0.5000,  0.5000, -0.5000],\n",
      "        [ 0.1000,  0.4000, -0.5000]])\n"
     ]
    }
   ],
   "source": [
    "# Clamp the value of a Tensor\n",
    "z = torch.clamp(v, min=-0.5, max=0.5)\n",
    "print(z)"
   ]
  },
  {
   "cell_type": "markdown",
   "metadata": {},
   "source": [
    "## 6. Matrix Operation"
   ]
  },
  {
   "cell_type": "markdown",
   "metadata": {},
   "source": [
    "- Dot product of 2 tensors"
   ]
  },
  {
   "cell_type": "code",
   "execution_count": 215,
   "metadata": {},
   "outputs": [
    {
     "name": "stdout",
     "output_type": "stream",
     "text": [
      "tensor(14.)\n"
     ]
    }
   ],
   "source": [
    "z = torch.dot(torch.Tensor([4, 2]), torch.Tensor([3, 1]))\n",
    "\n",
    "print(z)"
   ]
  },
  {
   "cell_type": "markdown",
   "metadata": {},
   "source": [
    "- Matrix by Vector products"
   ]
  },
  {
   "cell_type": "code",
   "execution_count": 216,
   "metadata": {},
   "outputs": [
    {
     "name": "stdout",
     "output_type": "stream",
     "text": [
      "torch.Size([2])\n",
      "torch.Size([3])\n"
     ]
    }
   ],
   "source": [
    "# Matrix X vector\n",
    "mat = torch.randn(2, 4)\n",
    "vec = torch.randn(4)\n",
    "\n",
    "z = torch.mv(mat, vec)\n",
    "print(z.size())\n",
    "\n",
    "# Matrix + Matrix X vector\n",
    "M = torch.randn(3)\n",
    "mat = torch.randn(3, 5)\n",
    "vec = torch.randn(5)\n",
    "\n",
    "z = torch.addmv(M, mat, vec)\n",
    "print(z.size())"
   ]
  },
  {
   "cell_type": "markdown",
   "metadata": {},
   "source": [
    "- Matrix by Matrix products"
   ]
  },
  {
   "cell_type": "code",
   "execution_count": 217,
   "metadata": {},
   "outputs": [
    {
     "name": "stdout",
     "output_type": "stream",
     "text": [
      "torch.Size([2, 4])\n",
      "torch.Size([3, 4])\n"
     ]
    }
   ],
   "source": [
    "# Matrix x Matrix\n",
    "mat1 = torch.randn(2, 3)\n",
    "mat2 = torch.randn(3, 4)\n",
    "\n",
    "z = torch.mm(mat1, mat2)\n",
    "print(z.size())\n",
    "\n",
    "# Matrix + Matrix X Matrix\n",
    "M = torch.randn(3, 4)\n",
    "mat1 = torch.randn(3, 2)\n",
    "mat2 = torch.randn(2, 4)\n",
    "\n",
    "z = torch.addmm(M, mat1, mat2)\n",
    "print(z.size())"
   ]
  },
  {
   "cell_type": "markdown",
   "metadata": {},
   "source": [
    "- Batch Matrix by Matrix products"
   ]
  },
  {
   "cell_type": "code",
   "execution_count": 218,
   "metadata": {},
   "outputs": [
    {
     "name": "stdout",
     "output_type": "stream",
     "text": [
      "torch.Size([10, 3, 5])\n",
      "torch.Size([3, 2])\n"
     ]
    }
   ],
   "source": [
    "# Batch Matrix x Matrix\n",
    "batch1 = torch.randn(10, 3, 4)\n",
    "batch2 = torch.randn(10, 4, 5)\n",
    "\n",
    "z = torch.bmm(batch1, batch2)\n",
    "print(z.size())\n",
    "\n",
    "# Batch Matrix + Matrix x Matrix\n",
    "# 3x4 + (5x3x4 X 5x4x2 ) -> 5x3x2\n",
    "M = torch.randn(3, 2)\n",
    "batch1 = torch.randn(5, 3, 4)\n",
    "batch2 = torch.randn(5, 4, 2)\n",
    "\n",
    "z = torch.addbmm(M, batch1, batch2)\n",
    "print(z.size())"
   ]
  },
  {
   "cell_type": "code",
   "execution_count": null,
   "metadata": {},
   "outputs": [],
   "source": []
  }
 ],
 "metadata": {
  "kernelspec": {
   "display_name": "Python 3",
   "language": "python",
   "name": "python3"
  },
  "language_info": {
   "codemirror_mode": {
    "name": "ipython",
    "version": 3
   },
   "file_extension": ".py",
   "mimetype": "text/x-python",
   "name": "python",
   "nbconvert_exporter": "python",
   "pygments_lexer": "ipython3",
   "version": "3.6.5"
  }
 },
 "nbformat": 4,
 "nbformat_minor": 2
}
