{
 "cells": [
  {
   "cell_type": "markdown",
   "metadata": {},
   "source": [
    "# KAIST Summer Session 2018\n",
    "\n",
    "## NAVER Movie Scraper (08.13.2018)\n",
    "\n",
    "1. Generating the list of URLs to download\n",
    "2. Downloading the webpage HTML from the URLs\n",
    "3. Parsing the relevant information from the downloaded HTML"
   ]
  },
  {
   "cell_type": "code",
   "execution_count": 4,
   "metadata": {},
   "outputs": [],
   "source": [
    "import requests\n",
    "from bs4 import BeautifulSoup"
   ]
  },
  {
   "attachments": {
    "image.png": {
     "image/png": "[encoded data removed]"
    }
   },
   "cell_type": "markdown",
   "metadata": {},
   "source": [
    "### 1. Generating the list of URLs to download\n",
    "\n",
    "1) Download the webpage HTML which includes the URL information\n",
    "\n",
    "![image.png](attachment:image.png)"
   ]
  },
  {
   "attachments": {
    "image.png": {
     "image/png": "[encoded data removed]"
    }
   },
   "cell_type": "markdown",
   "metadata": {},
   "source": [
    "2) Parsing the URL information\n",
    "![image.png](attachment:image.png)"
   ]
  },
  {
   "cell_type": "code",
   "execution_count": 5,
   "metadata": {},
   "outputs": [
    {
     "name": "stdout",
     "output_type": "stream",
     "text": [
      "Found the URL: /movie/bi/mi/basic.nhn?code=169240\n",
      "Found the URL: /movie/bi/mi/basic.nhn?code=157243\n",
      "Found the URL: /movie/bi/mi/basic.nhn?code=154667\n",
      "Found the URL: /movie/bi/mi/basic.nhn?code=151196\n",
      "Found the URL: /movie/bi/mi/basic.nhn?code=17421\n",
      "Found the URL: /movie/bi/mi/basic.nhn?code=31170\n",
      "Found the URL: /movie/bi/mi/basic.nhn?code=10200\n",
      "Found the URL: /movie/bi/mi/basic.nhn?code=22126\n",
      "Found the URL: /movie/bi/mi/basic.nhn?code=24452\n",
      "Found the URL: /movie/bi/mi/basic.nhn?code=18988\n",
      "Found the URL: /movie/bi/mi/basic.nhn?code=10048\n",
      "Found the URL: /movie/bi/mi/basic.nhn?code=17159\n",
      "Found the URL: /movie/bi/mi/basic.nhn?code=69105\n",
      "Found the URL: /movie/bi/mi/basic.nhn?code=10002\n",
      "Found the URL: /movie/bi/mi/basic.nhn?code=10102\n",
      "Found the URL: /movie/bi/mi/basic.nhn?code=10016\n",
      "Found the URL: /movie/bi/mi/basic.nhn?code=82432\n",
      "Found the URL: /movie/bi/mi/basic.nhn?code=35901\n",
      "Found the URL: /movie/bi/mi/basic.nhn?code=66463\n",
      "Found the URL: /movie/bi/mi/basic.nhn?code=106360\n",
      "Found the URL: /movie/bi/mi/basic.nhn?code=32686\n",
      "Found the URL: /movie/bi/mi/basic.nhn?code=17170\n",
      "Found the URL: /movie/bi/mi/basic.nhn?code=31796\n",
      "Found the URL: /movie/bi/mi/basic.nhn?code=29217\n",
      "Found the URL: /movie/bi/mi/basic.nhn?code=35939\n",
      "Found the URL: /movie/bi/mi/basic.nhn?code=14448\n",
      "Found the URL: /movie/bi/mi/basic.nhn?code=134899\n",
      "Found the URL: /movie/bi/mi/basic.nhn?code=167787\n",
      "Found the URL: /movie/bi/mi/basic.nhn?code=161850\n",
      "Found the URL: /movie/bi/mi/basic.nhn?code=31795\n",
      "Found the URL: /movie/bi/mi/basic.nhn?code=130850\n",
      "Found the URL: /movie/bi/mi/basic.nhn?code=17541\n",
      "Found the URL: /movie/bi/mi/basic.nhn?code=31162\n",
      "Found the URL: /movie/bi/mi/basic.nhn?code=10038\n",
      "Found the URL: /movie/bi/mi/basic.nhn?code=12482\n",
      "Found the URL: /movie/bi/mi/basic.nhn?code=16210\n",
      "Found the URL: /movie/bi/mi/basic.nhn?code=18543\n",
      "Found the URL: /movie/bi/mi/basic.nhn?code=73372\n",
      "Found the URL: /movie/bi/mi/basic.nhn?code=76667\n",
      "Found the URL: /movie/bi/mi/basic.nhn?code=19079\n",
      "Found the URL: /movie/bi/mi/basic.nhn?code=154573\n",
      "Found the URL: /movie/bi/mi/basic.nhn?code=10114\n",
      "Found the URL: /movie/bi/mi/basic.nhn?code=14450\n",
      "Found the URL: /movie/bi/mi/basic.nhn?code=73476\n",
      "Found the URL: /movie/bi/mi/basic.nhn?code=147092\n",
      "Found the URL: /movie/bi/mi/basic.nhn?code=39636\n",
      "Found the URL: /movie/bi/mi/basic.nhn?code=87566\n",
      "Found the URL: /movie/bi/mi/basic.nhn?code=70457\n",
      "Found the URL: /movie/bi/mi/basic.nhn?code=173019\n",
      "Found the URL: /movie/bi/mi/basic.nhn?code=13008\n",
      "Found the URL: /movie/bi/mi/basic.nhn?code=25915\n",
      "Found the URL: /movie/bi/mi/basic.nhn?code=17153\n",
      "Found the URL: /movie/bi/mi/basic.nhn?code=34324\n",
      "Found the URL: /movie/bi/mi/basic.nhn?code=89752\n",
      "Found the URL: /movie/bi/mi/basic.nhn?code=19303\n",
      "Found the URL: /movie/bi/mi/basic.nhn?code=29657\n",
      "Found the URL: /movie/bi/mi/basic.nhn?code=62586\n",
      "Found the URL: /movie/bi/mi/basic.nhn?code=37886\n",
      "Found the URL: /movie/bi/mi/basic.nhn?code=34227\n",
      "Found the URL: /movie/bi/mi/basic.nhn?code=75470\n",
      "Found the URL: /movie/bi/mi/basic.nhn?code=125724\n",
      "Found the URL: /movie/bi/mi/basic.nhn?code=19099\n",
      "Found the URL: /movie/bi/mi/basic.nhn?code=103535\n",
      "Found the URL: /movie/bi/mi/basic.nhn?code=10105\n",
      "Found the URL: /movie/bi/mi/basic.nhn?code=47528\n",
      "Found the URL: /movie/bi/mi/basic.nhn?code=39584\n",
      "Found the URL: /movie/bi/mi/basic.nhn?code=146534\n",
      "Found the URL: /movie/bi/mi/basic.nhn?code=34181\n",
      "Found the URL: /movie/bi/mi/basic.nhn?code=17135\n",
      "Found the URL: /movie/bi/mi/basic.nhn?code=10249\n",
      "Found the URL: /movie/bi/mi/basic.nhn?code=17441\n",
      "Found the URL: /movie/bi/mi/basic.nhn?code=18847\n",
      "Found the URL: /movie/bi/mi/basic.nhn?code=52120\n",
      "Found the URL: /movie/bi/mi/basic.nhn?code=18782\n",
      "Found the URL: /movie/bi/mi/basic.nhn?code=51172\n",
      "Found the URL: /movie/bi/mi/basic.nhn?code=10021\n",
      "Found the URL: /movie/bi/mi/basic.nhn?code=12270\n",
      "Found the URL: /movie/bi/mi/basic.nhn?code=28788\n",
      "Found the URL: /movie/bi/mi/basic.nhn?code=71081\n",
      "Found the URL: /movie/bi/mi/basic.nhn?code=35187\n",
      "Found the URL: /movie/bi/mi/basic.nhn?code=13500\n",
      "Found the URL: /movie/bi/mi/basic.nhn?code=169561\n",
      "Found the URL: /movie/bi/mi/basic.nhn?code=151106\n",
      "Found the URL: /movie/bi/mi/basic.nhn?code=79762\n",
      "Found the URL: /movie/bi/mi/basic.nhn?code=87307\n",
      "Found the URL: /movie/bi/mi/basic.nhn?code=70651\n",
      "Found the URL: /movie/bi/mi/basic.nhn?code=65021\n",
      "Found the URL: /movie/bi/mi/basic.nhn?code=29571\n",
      "Found the URL: /movie/bi/mi/basic.nhn?code=17869\n",
      "Found the URL: /movie/bi/mi/basic.nhn?code=10341\n",
      "Found the URL: /movie/bi/mi/basic.nhn?code=31794\n",
      "Found the URL: /movie/bi/mi/basic.nhn?code=16216\n",
      "Found the URL: /movie/bi/mi/basic.nhn?code=31013\n",
      "Found the URL: /movie/bi/mi/basic.nhn?code=51708\n",
      "Found the URL: /movie/bi/mi/basic.nhn?code=10001\n",
      "Found the URL: /movie/bi/mi/basic.nhn?code=53951\n",
      "Found the URL: /movie/bi/mi/basic.nhn?code=25266\n",
      "Found the URL: /movie/bi/mi/basic.nhn?code=16531\n",
      "Found the URL: /movie/bi/mi/basic.nhn?code=31268\n",
      "Found the URL: /movie/bi/mi/basic.nhn?code=167107\n",
      "Number of urls: 100\n"
     ]
    }
   ],
   "source": [
    "url_list = []\n",
    "npages=2 # number of pages you want to download\n",
    "for page_num in range(npages):\n",
    "    response = requests.get('https://movie.naver.com/movie/sdb/rank/rmovie.nhn?sel=pnt&page='+str(page_num+1))\n",
    "    html = response.text\n",
    "    soup = BeautifulSoup(html, 'html.parser')\n",
    "    \n",
    "    url_soup = soup.find_all('div', {'class':'tit5'})\n",
    "    for ul in url_soup:\n",
    "        for a in ul.find_all('a'):\n",
    "            print(\"Found the URL:\", a['href'])\n",
    "            url_list.append(a['href'])\n",
    "            \n",
    "print('Number of urls:',len(url_list))"
   ]
  },
  {
   "cell_type": "markdown",
   "metadata": {},
   "source": [
    "### 2. Parsing the relevant information from the HTML"
   ]
  },
  {
   "cell_type": "markdown",
   "metadata": {},
   "source": [
    "#### 2.1 Movie information parsing"
   ]
  },
  {
   "attachments": {
    "image.png": {
     "image/png": "[encoded data removed]"
    }
   },
   "cell_type": "markdown",
   "metadata": {},
   "source": [
    "1) Download the webpage HTML which includes the relevant information from the URL list\n",
    "- (example) https://movie.naver.com/movie/bi/mi/basic.nhn?code=169240\n",
    "\n",
    "2) Parsing the movie information\n",
    "- (example) Audience rating\n",
    "\n",
    "![image.png](attachment:image.png)"
   ]
  },
  {
   "cell_type": "code",
   "execution_count": 6,
   "metadata": {},
   "outputs": [
    {
     "name": "stdout",
     "output_type": "stream",
     "text": [
      "total link: 100\n",
      "0 / 100\n",
      "5 / 100\n",
      "10 / 100\n",
      "15 / 100\n",
      "20 / 100\n",
      "25 / 100\n",
      "30 / 100\n",
      "35 / 100\n",
      "40 / 100\n",
      "45 / 100\n",
      "50 / 100\n",
      "55 / 100\n",
      "60 / 100\n",
      "65 / 100\n",
      "70 / 100\n",
      "75 / 100\n",
      "80 / 100\n",
      "85 / 100\n",
      "90 / 100\n",
      "95 / 100\n",
      "Done\n"
     ]
    }
   ],
   "source": [
    "movie_info_collection = []\n",
    "\n",
    "count = 0 \n",
    "print(\"total link:\", len(url_list))\n",
    "\n",
    "for movie_url in url_list:\n",
    "    \n",
    "    if count % 5 ==0:\n",
    "        print(str(count),\"/\", len(url_list))    \n",
    "        \n",
    "    # download the html which includes the relevant information\n",
    "    response = requests.get('https://movie.naver.com'+movie_url)\n",
    "    html = response.text\n",
    "    soup = BeautifulSoup(html, 'html.parser')\n",
    "\n",
    "    \n",
    "    # parsing for movie information\n",
    "    movie_info = {}\n",
    "    movie_info['url'] = 'https://movie.naver.com'+movie_url\n",
    "    movie_info['ranking']=count+1\n",
    "    movie_info['movie_id'] = movie_url.split('code=')[-1]\n",
    "    \n",
    "    a = soup.find('h3',{'class':'h_movie'})\n",
    "    movie_info['title'] = a.find('a').string\n",
    "        \n",
    "    \n",
    "    # audience_rating\n",
    "    a = soup.find('a',{'class':'ntz_score'})\n",
    "    movie_info['audience_rating'] = a.find('span',{'class':'st_on'}).text.split(\" \")[2].split(\"점\")[0]\n",
    "\n",
    "    \n",
    "    # expert_rating\n",
    "    try:\n",
    "        a = soup.find('a',{'class':'spc'})\n",
    "        b = a.find('div', {'class':'star_score'})\n",
    "        c = b.find_all('em')\n",
    "        movie_info['expert_rating']=\"\"\n",
    "        for i in range(len(c)):        \n",
    "            movie_info['expert_rating']=movie_info['expert_rating']+ c[i].string        \n",
    "    except:\n",
    "        movie_info['expert_rating']=\"없음\"\n",
    "        \n",
    "        \n",
    "    # netizen_rating\n",
    "    try:\n",
    "        a = soup.find('div',{'class':'star_score '})\n",
    "        b = a.find_all('em')\n",
    "        movie_info['netizen_rating']=\"\"\n",
    "        for i in range(len(b)):        \n",
    "            movie_info['netizen_rating']=movie_info['netizen_rating']+ b[i].string        \n",
    "    except:\n",
    "        movie_info['netizen_rating']=\"없음\"\n",
    "        \n",
    "        \n",
    "    count +=1\n",
    "    movie_info_collection.append(movie_info)\n",
    "\n",
    "print(\"Done\")"
   ]
  },
  {
   "cell_type": "markdown",
   "metadata": {},
   "source": [
    "#### 2.2 Actor information parsing"
   ]
  },
  {
   "attachments": {
    "image.png": {
     "image/png": "[encoded data removed]"
    }
   },
   "cell_type": "markdown",
   "metadata": {},
   "source": [
    "\n",
    "1) Download the webpage HTML which includes the relevant information from the URL list\n",
    "- (example) https://movie.naver.com/movie/bi/mi/detail.nhn?code=169240\n",
    "\n",
    "2) Parsing the actor information\n",
    "\n",
    "![image.png](attachment:image.png)"
   ]
  },
  {
   "cell_type": "code",
   "execution_count": 7,
   "metadata": {
    "scrolled": false
   },
   "outputs": [
    {
     "name": "stdout",
     "output_type": "stream",
     "text": [
      "0 / 100\n",
      "5 / 100\n",
      "10 / 100\n",
      "15 / 100\n",
      "20 / 100\n",
      "25 / 100\n",
      "30 / 100\n",
      "35 / 100\n",
      "40 / 100\n",
      "45 / 100\n",
      "50 / 100\n",
      "55 / 100\n",
      "60 / 100\n",
      "65 / 100\n",
      "70 / 100\n",
      "75 / 100\n",
      "80 / 100\n",
      "85 / 100\n",
      "90 / 100\n",
      "95 / 100\n",
      "Done\n"
     ]
    }
   ],
   "source": [
    "import os\n",
    "import urllib\n",
    "\n",
    "movie_actor_collection = []\n",
    "\n",
    "count = 0 \n",
    "\n",
    "for movie_url in url_list:\n",
    "    \n",
    "    if count % 5 ==0:\n",
    "        print(str(count),\"/\", len(url_list))    \n",
    "        \n",
    "    # download the html which includes the relevant information\n",
    "    movie_actor_url= movie_url.replace('basic', 'detail')\n",
    "    response = requests.get('https://movie.naver.com'+movie_actor_url)\n",
    "    html = response.text\n",
    "    soup = BeautifulSoup(html, 'html.parser')\n",
    "\n",
    "    \n",
    "    # parsing for movie information\n",
    "    movie_info = {}\n",
    "    movie_info['url'] = 'https://movie.naver.com'+movie_url\n",
    "    movie_info['ranking']=count+1\n",
    "    movie_info['movie_id'] = movie_url.split('code=')[-1]\n",
    "\n",
    "    \n",
    "    # creating a new folder\n",
    "    if not(os.path.isdir('images')):\n",
    "        os.makedirs('images')\n",
    "\n",
    "    # parsing for actor information    \n",
    "    a = soup.find_all('p',{'class':'p_thumb'})\n",
    "    for i in range(len(a)):\n",
    "        try:\n",
    "            movie_info['actor_name',i] = a[i].find('a')['title']\n",
    "            movie_info['actor_img',i] = a[i].find('img')['src']\n",
    "            \n",
    "            # download image files unless it is the default image\n",
    "            if movie_info['actor_img',i] != 'https://ssl.pstatic.net/static/movie/2012/06/dft_img111x139.png':\n",
    "                urllib.request.urlretrieve(movie_info['actor_img',i],'images\\\\'+movie_info['movie_id']+'_'+movie_info['actor_name',i]+'.jpg')\n",
    "        except:\n",
    "            pass\n",
    "        \n",
    "        \n",
    "    count +=1\n",
    "    movie_actor_collection.append(movie_info)\n",
    "\n",
    "print(\"Done\")"
   ]
  },
  {
   "cell_type": "markdown",
   "metadata": {},
   "source": [
    "3) Saving the data as .xlsx"
   ]
  },
  {
   "cell_type": "code",
   "execution_count": 8,
   "metadata": {},
   "outputs": [],
   "source": [
    "import pandas as pd\n",
    "movie_info_df = pd.DataFrame(movie_info_collection)\n",
    "movie_info_df.to_excel('naver_movie_info.xlsx')\n",
    "\n",
    "movie_actor_df = pd.DataFrame(movie_actor_collection)\n",
    "movie_actor_df.to_excel('naver_movie_actor.xlsx')"
   ]
  },
  {
   "cell_type": "code",
   "execution_count": null,
   "metadata": {},
   "outputs": [],
   "source": []
  }
 ],
 "metadata": {
  "kernelspec": {
   "display_name": "Python 3",
   "language": "python",
   "name": "python3"
  },
  "language_info": {
   "codemirror_mode": {
    "name": "ipython",
    "version": 3
   },
   "file_extension": ".py",
   "mimetype": "text/x-python",
   "name": "python",
   "nbconvert_exporter": "python",
   "pygments_lexer": "ipython3",
   "version": "3.6.5"
  }
 },
 "nbformat": 4,
 "nbformat_minor": 2
}
